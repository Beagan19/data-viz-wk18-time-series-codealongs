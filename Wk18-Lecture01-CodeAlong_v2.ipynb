{
 "cells": [
  {
   "cell_type": "markdown",
   "id": "eb0a0c65",
   "metadata": {},
   "source": [
    "# Wk18-Lecture01-CodeAlong: Preparing Time Series Data"
   ]
  },
  {
   "cell_type": "markdown",
   "id": "f20b0a55",
   "metadata": {},
   "source": [
    "## Learning Objectives"
   ]
  },
  {
   "cell_type": "markdown",
   "id": "df5eb627",
   "metadata": {},
   "source": [
    "- By the end of this CodeAlong, students will be able to:\n",
    "    - Create date time indices\n",
    "    - Resample at various frequencies\n",
    "    - Impute null values for time series \n",
    "    - Convert wide-form data to long-form\n",
    "    "
   ]
  },
  {
   "cell_type": "code",
   "execution_count": null,
   "id": "7dd25599",
   "metadata": {},
   "outputs": [],
   "source": [
    "import pandas as pd\n",
    "import matplotlib.pyplot as plt\n",
    "import matplotlib.dates as mdates\n",
    "import matplotlib.ticker as mticks\n",
    "\n",
    "import missingno as miss\n",
    "\n",
    "import seaborn as sns\n",
    "import numpy as np\n",
    "# import statsmodels.tsa.api as tsa\n",
    "\n",
    "pd.set_option('display.float_format',lambda x:f\"{x:,.2f}\")"
   ]
  },
  {
   "cell_type": "code",
   "execution_count": null,
   "id": "7fc93259",
   "metadata": {},
   "outputs": [],
   "source": [
    "sns.set_context('notebook',font_scale=0.9)\n",
    "plt.style.use(['ggplot'])"
   ]
  },
  {
   "cell_type": "markdown",
   "id": "ab280009",
   "metadata": {},
   "source": [
    "# Datetime Objects"
   ]
  },
  {
   "cell_type": "markdown",
   "id": "e096ff5d",
   "metadata": {},
   "source": [
    "In Python, we will deal with 2 types of date/time objects:\n",
    "- Python datetime\n",
    "- Panda's datetime indices"
   ]
  },
  {
   "cell_type": "code",
   "execution_count": null,
   "id": "36b92074",
   "metadata": {},
   "outputs": [],
   "source": [
    "import datetime as dt"
   ]
  },
  {
   "cell_type": "code",
   "execution_count": null,
   "id": "58fb7058",
   "metadata": {},
   "outputs": [],
   "source": [
    "# Get Today's date (ONLY) from python's datetime.date module\n",
    "today_date = dt.date.today()\n",
    "today_date"
   ]
  },
  {
   "cell_type": "code",
   "execution_count": null,
   "id": "7c8cb8fb",
   "metadata": {},
   "outputs": [],
   "source": [
    "# Printed dt objects look very different!\n",
    "print(today_date)"
   ]
  },
  {
   "cell_type": "code",
   "execution_count": null,
   "id": "3660ff32",
   "metadata": {},
   "outputs": [],
   "source": [
    "# Get Today's date(&time) from python's datetime.datetime module\n",
    "today_datetime = dt.datetime.today()\n",
    "today_datetime"
   ]
  },
  {
   "cell_type": "code",
   "execution_count": null,
   "id": "23d7b155",
   "metadata": {},
   "outputs": [],
   "source": [
    "print(today_datetime)"
   ]
  },
  {
   "cell_type": "markdown",
   "id": "c7caf247",
   "metadata": {},
   "source": [
    "### Datetime Formats"
   ]
  },
  {
   "cell_type": "markdown",
   "id": "d72446a9",
   "metadata": {},
   "source": [
    "- Datetime objects have a `.strftime()` method (string-format-time)\n",
    "\n",
    "- 📖 **strftime cheat sheet: https://strftime.org/**\n",
    "- 📖 **Official Table of Python datetime format codes: https://docs.python.org/3/library/datetime.html#strftime-and-strptime-format-codes **\n",
    "\n",
    "\n",
    "| Directive   | Meaning                                                                                                                                                                          | Example                                                                      |\n",
    "|:------------|:---------------------------------------------------------------------------------------------------------------------------------------------------------------------------------|:-----------------------------------------------------------------------------|\n",
    "| %a          | Weekday as locale’s abbreviated name.                                                                                                                                            | Sun, Mon, …, Sat (en_US); So, Mo, …, Sa (de_DE)                              |\n",
    "| %A          | Weekday as locale’s full name.                                                                                                                                                   | Sunday, Monday, …, Saturday (en_US); Sonntag, Montag, …, Samstag (de_DE)     |\n",
    "| %w          | Weekday as a decimal number, where 0 is Sunday and 6 is Saturday.                                                                                                                | 0, 1, …, 6                                                                   |\n",
    "| %d          | Day of the month as a zero-padded decimal number.                                                                                                                                | 01, 02, …, 31                                                                |\n",
    "| %b          | Month as locale’s abbreviated name.                                                                                                                                              | Jan, Feb, …, Dec (en_US); Jan, Feb, …, Dez (de_DE)                           |\n",
    "| %B          | Month as locale’s full name.                                                                                                                                                     | January, February, …, December (en_US); Januar, Februar, …, Dezember (de_DE) |\n",
    "| %m          | Month as a zero-padded decimal number.                                                                                                                                           | 01, 02, …, 12                                                                |\n",
    "| %y          | Year without century as a zero-padded decimal number.                                                                                                                            | 00, 01, …, 99                                                                |\n",
    "| %Y          | Year with century as a decimal number.                                                                                                                                           | 0001, 0002, …, 2013, 2014, …, 9998, 9999                                     |\n",
    "| %H          | Hour (24-hour clock) as a zero-padded decimal number.                                                                                                                            | 00, 01, …, 23                                                                |\n",
    "| %I          | Hour (12-hour clock) as a zero-padded decimal number.                                                                                                                            | 01, 02, …, 12                                                                |\n",
    "| %p          | Locale’s equivalent of either AM or PM.                                                                                                                                          | AM, PM (en_US); am, pm (de_DE)                                               |\n",
    "| %M          | Minute as a zero-padded decimal number.                                                                                                                                          | 00, 01, …, 59                                                                |\n",
    "| %S          | Second as a zero-padded decimal number.                                                                                                                                          | 00, 01, …, 59                                                                |\n",
    "| %f          | Microsecond as a decimal number, zero-padded to 6 digits.                                                                                                                        | 000000, 000001, …, 999999                                                    |\n",
    "| %z          | UTC offset in the form ±HHMM[SS[.ffffff]] (empty string if the object is naive).                                                                                                 | (empty), +0000, -0400, +1030, +063415, -030712.345216                        |\n",
    "| %Z          | Time zone name (empty string if the object is naive).                                                                                                                            | (empty), UTC, GMT                                                            |\n",
    "| %j          | Day of the year as a zero-padded decimal number.                                                                                                                                 | 001, 002, …, 366                                                             |\n",
    "| %U          | Week number of the year (Sunday as the first day of the week) as a zero-padded decimal number. All days in a new year preceding the first Sunday are considered to be in week 0. | 00, 01, …, 53                                                                |\n",
    "| %W          | Week number of the year (Monday as the first day of the week) as a zero-padded decimal number. All days in a new year preceding the first Monday are considered to be in week 0. | 00, 01, …, 53                                                                |\n",
    "| %c          | Locale’s appropriate date and time representation.                                                                                                                               | Tue Aug 16 21:30:00 1988 (en_US); Di 16 Aug 21:30:00 1988 (de_DE)            |\n",
    "| %x          | Locale’s appropriate date representation.                                                                                                                                        | 08/16/88 (None); 08/16/1988 (en_US); 16.08.1988 (de_DE)                      |\n",
    "| %X          | Locale’s appropriate time representation.                                                                                                                                        | 21:30:00 (en_US); 21:30:00 (de_DE)                                           |\n",
    "| %%          | A literal '%' character.                                                                                                                                                         | %                                                                            |"
   ]
  },
  {
   "cell_type": "code",
   "execution_count": null,
   "id": "cab45f73",
   "metadata": {},
   "outputs": [],
   "source": [
    "## How to make a markdown table from a csv\n",
    "# freq_codes = pd.read_csv('Reference-Python-Frequency-Codes.csv', index_col=0)\n",
    "# print(freq_codes.drop(columns=[\"Notes\"]).to_markdown())"
   ]
  },
  {
   "cell_type": "code",
   "execution_count": null,
   "id": "f15ed688",
   "metadata": {},
   "outputs": [],
   "source": [
    "## Month/Day/Year 24Hour Time\n",
    "mo_day_yr_24hr_time_fmt = \"%m/%d/%Y %T\"\n",
    "today_dt_24hr_str = today_datetime.strftime(mo_day_yr_24hr_time_fmt)\n",
    "today_dt_24hr_str"
   ]
  },
  {
   "cell_type": "code",
   "execution_count": null,
   "id": "b46c9f5d",
   "metadata": {},
   "outputs": [],
   "source": [
    "## Monday/Day/Year 12 Hour Time (+AM/PM)\n",
    "mo_day_yr_12hr_time_fmt =  \"%m/%d/%Y %I:%M:%S %p\"\n",
    "\n",
    "today_dt_12hr_str = today_datetime.strftime(mo_day_yr_12hr_time_fmt)\n",
    "today_dt_12hr_str"
   ]
  },
  {
   "cell_type": "markdown",
   "id": "9381dab4",
   "metadata": {},
   "source": [
    "> `.strftime` returns a STRING"
   ]
  },
  {
   "cell_type": "code",
   "execution_count": null,
   "id": "5d4bcc8b",
   "metadata": {},
   "outputs": [],
   "source": [
    "type(today_dt_24hr_str)"
   ]
  },
  {
   "cell_type": "code",
   "execution_count": null,
   "id": "6db05687",
   "metadata": {},
   "outputs": [],
   "source": [
    "## But pd.to_datetime can do that for us! \n",
    "converted_date_pandas = pd.to_datetime(today_dt_24hr_str)\n",
    "converted_date_pandas"
   ]
  },
  {
   "cell_type": "markdown",
   "id": "f1b7cb0c",
   "metadata": {},
   "source": [
    "> We will use pandas datetime objects/functions whenever possible, as they save us a lot of time!"
   ]
  },
  {
   "cell_type": "markdown",
   "id": "b2c2a304",
   "metadata": {},
   "source": [
    "### Comparing Python vs. Pandas Datetime Objects"
   ]
  },
  {
   "cell_type": "code",
   "execution_count": null,
   "id": "90b88d59",
   "metadata": {
    "scrolled": false
   },
   "outputs": [],
   "source": [
    "## Python Datetime \n",
    "print(type(today_datetime))\n",
    "\n",
    "## Displaying vs printing\n",
    "display(today_datetime)\n",
    "print(today_datetime)"
   ]
  },
  {
   "cell_type": "code",
   "execution_count": null,
   "id": "d1039976",
   "metadata": {
    "scrolled": false
   },
   "outputs": [],
   "source": [
    "## Panda's Timestamp\n",
    "print(type(converted_date_pandas))\n",
    "\n",
    "## Displaying vs printing\n",
    "display(converted_date_pandas)\n",
    "print(converted_date_pandas)"
   ]
  },
  {
   "cell_type": "markdown",
   "id": "ca7fe393",
   "metadata": {},
   "source": [
    "# Working with Time Series - Data with Regular Intervals"
   ]
  },
  {
   "cell_type": "markdown",
   "id": "2d927ed1",
   "metadata": {},
   "source": [
    "### Stock Data (S&P500)"
   ]
  },
  {
   "cell_type": "markdown",
   "id": "bfe9844e",
   "metadata": {},
   "source": [
    "- S&P 500 (Kibot) \n",
    "     - IVE S&P 500 1-min aggregate data from: http://www.kibot.com/free_historical_data.aspx"
   ]
  },
  {
   "cell_type": "code",
   "execution_count": null,
   "id": "23f17c51",
   "metadata": {},
   "outputs": [],
   "source": [
    "sp500_min_df = pd.read_csv('Data/stocks/sp500_ive_min_tick_bidask.csv')\n",
    "sp500_min_df.head()"
   ]
  },
  {
   "cell_type": "markdown",
   "id": "b86db93c",
   "metadata": {},
   "source": [
    "## Using pd.to_datetime"
   ]
  },
  {
   "cell_type": "markdown",
   "id": "64b16899",
   "metadata": {},
   "source": [
    "- Powerful  (but slow) function for converting data to datetime."
   ]
  },
  {
   "cell_type": "code",
   "execution_count": null,
   "id": "ae85093e",
   "metadata": {},
   "outputs": [],
   "source": [
    "%%time\n",
    "## Make a datetime index using pd.to_datetime\n",
    "sp500_min_df['Datetime'] = pd.to_datetime(sp500_min_df['Date']+' ' + sp500_min_df['Time'])\n",
    "sp500_min_df"
   ]
  },
  {
   "cell_type": "markdown",
   "id": "bf12bc99",
   "metadata": {},
   "source": [
    "- We can speed up the conversion by specifying the correct time format and setting `infer_datetime_format=False`"
   ]
  },
  {
   "cell_type": "code",
   "execution_count": null,
   "id": "9faf4a2e",
   "metadata": {},
   "outputs": [],
   "source": [
    "## Creating/testing our time format\n",
    "fmt = \"%m/%d/%Y %H:%M\"\n",
    "today_datetime.strftime(fmt)"
   ]
  },
  {
   "cell_type": "code",
   "execution_count": null,
   "id": "ceaf9be6",
   "metadata": {},
   "outputs": [],
   "source": [
    "%%time\n",
    "## Make a datetime index using pd.to_datetime & specifying the format  (to save gtime)\n",
    "sp500_min_df['Datetime'] = pd.to_datetime(sp500_min_df['Date']+' ' + sp500_min_df['Time'],\n",
    "                                          format=fmt,\n",
    "                                         infer_datetime_format=False)\n",
    "sp500_min_df"
   ]
  },
  {
   "cell_type": "code",
   "execution_count": null,
   "id": "952aaf7e",
   "metadata": {},
   "outputs": [],
   "source": [
    "## Setting the datetime index\n",
    "df_ts = sp500_min_df.set_index(\"Datetime\")\n",
    "df_ts"
   ]
  },
  {
   "cell_type": "code",
   "execution_count": null,
   "id": "15dd7aa5",
   "metadata": {},
   "outputs": [],
   "source": [
    "df_ts.index"
   ]
  },
  {
   "cell_type": "code",
   "execution_count": null,
   "id": "04f89686",
   "metadata": {},
   "outputs": [],
   "source": [
    "## Only keeping Closing Ask/Bid\n",
    "close_cols = [c for c in df_ts.columns if \"Close\" in c]\n",
    "df_ts = df_ts[close_cols]\n",
    "df_ts"
   ]
  },
  {
   "cell_type": "code",
   "execution_count": null,
   "id": "e6a52124",
   "metadata": {},
   "outputs": [],
   "source": [
    "# check the index to confirm its datetime\n",
    "df_ts.index"
   ]
  },
  {
   "cell_type": "markdown",
   "id": "8854c40f",
   "metadata": {},
   "source": [
    "## 📈 Visualizing Our Time Series DataFrame"
   ]
  },
  {
   "cell_type": "code",
   "execution_count": null,
   "id": "6d3b7770",
   "metadata": {},
   "outputs": [],
   "source": [
    "## let's visualize our dataframe \n",
    "ax = df_ts.plot()"
   ]
  },
  {
   "cell_type": "markdown",
   "id": "a0a08bce",
   "metadata": {},
   "source": [
    "> Time series visualizations usually require wider figures. "
   ]
  },
  {
   "cell_type": "markdown",
   "id": "7524c068",
   "metadata": {},
   "source": [
    "### Changing Default Figure Size"
   ]
  },
  {
   "cell_type": "code",
   "execution_count": null,
   "id": "126a5fe1",
   "metadata": {},
   "outputs": [],
   "source": [
    "# check default figsize in rcParams\n",
    "plt.rcParams['figure.figsize']"
   ]
  },
  {
   "cell_type": "code",
   "execution_count": null,
   "id": "4e7f8f3f",
   "metadata": {},
   "outputs": [],
   "source": [
    "## Change the default figure size to something wider (12,5)\n",
    "plt.rcParams['figure.figsize'] = (12,5)"
   ]
  },
  {
   "cell_type": "code",
   "execution_count": null,
   "id": "ad679855",
   "metadata": {},
   "outputs": [],
   "source": [
    "## recreate the plot\n",
    "ax = df_ts.plot()"
   ]
  },
  {
   "cell_type": "markdown",
   "id": "2767b417",
   "metadata": {},
   "source": [
    "### Using Tick Date Formatters/Locators"
   ]
  },
  {
   "cell_type": "markdown",
   "id": "bec8f1c6",
   "metadata": {},
   "source": [
    "- Let's add a minor xtick every 3 months."
   ]
  },
  {
   "cell_type": "code",
   "execution_count": null,
   "id": "8c564efe",
   "metadata": {},
   "outputs": [],
   "source": [
    "## CREATE ARTISTS FOR MAJOR XTICKS (Years)\n",
    "# Create a year locator\n",
    "loc_major_yr = mdates.YearLocator()\n",
    "# Create a year formatter using 4-digit years\n",
    "fmt_major_yr = mdates.DateFormatter(\"%Y\")\n",
    "\n",
    "\n",
    "## CREATE ARTISTS FOR MINOR XTICKS ( Months)\n",
    "# Create a month locator that will add months at 1,4,7,10\n",
    "loc_minor_3m = mdates.MonthLocator(bymonth=[1,4,7,10])\n",
    "# Createa monthnformatter that will use 3-letter month names\n",
    "fmt_minor_3m = mdates.DateFormatter(\"%b\")"
   ]
  },
  {
   "cell_type": "code",
   "execution_count": null,
   "id": "13764d21",
   "metadata": {},
   "outputs": [],
   "source": [
    "## Create our plot and save the ax\n",
    "ax = df_ts.plot()\n",
    "ax.set(ylabel=\"Stock Value\", title='S&P 500')\n",
    "\n",
    "# Set xaxis major locator/formatter\n",
    "ax.xaxis.set_major_locator(loc_major_yr)\n",
    "ax.xaxis.set_major_formatter(fmt_major_yr)\n",
    "\n",
    "\n",
    "# Set xaxis minor locator/formatter\n",
    "ax.xaxis.set_minor_locator(loc_minor_3m)\n",
    "ax.xaxis.set_minor_formatter(fmt_minor_3m)\n",
    "\n",
    "# Add gridlines for major xaxis ticks\n",
    "ax.grid(which='major',axis='x',color='k',ls=':',lw=1)\n",
    "\n",
    "## Rotate the major tick years using fig.autofmt_xdate\n",
    "fig = ax.get_figure()\n",
    "fig.autofmt_xdate(which='major', rotation=90,ha='center')"
   ]
  },
  {
   "cell_type": "code",
   "execution_count": null,
   "id": "827a2f7d",
   "metadata": {},
   "outputs": [],
   "source": [
    "def format_xdates_stocks(ax):\n",
    "    \n",
    "    # Create a year locator\n",
    "    loc_major_yr = mdates.YearLocator()\n",
    "    # Create a year formatter using 4-digit years\n",
    "    fmt_major_yr = mdates.DateFormatter(\"%Y\")\n",
    "\n",
    "\n",
    "    # Create a month locator that will add months at 1,4,7,10\n",
    "    loc_minor_3m = mdates.MonthLocator(bymonth=[1,4,7,10])\n",
    "    # Createa monthnformatter that will use 3-letter month names\n",
    "    fmt_minor_3m = mdates.DateFormatter(\"%b\")\n",
    "    \n",
    "\n",
    "    \n",
    "    # Set xaxis major locator/formatter\n",
    "    ax.xaxis.set_major_locator(loc_major_yr)\n",
    "    ax.xaxis.set_major_formatter(fmt_major_yr)\n",
    "\n",
    "\n",
    "    # Set xaxis minor locator/formatter\n",
    "    ax.xaxis.set_minor_locator(loc_minor_3m)\n",
    "    ax.xaxis.set_minor_formatter(fmt_minor_3m)\n",
    "\n",
    "    \n",
    "\n",
    "    # Add gridlines for major xaxis ticks\n",
    "    ax.grid(which='major',axis='x',color='k',ls=':',lw=1)\n",
    "\n",
    "    ## Rotate the major tick years using fig.autofmt_xdate\n",
    "    fig = ax.get_figure()\n",
    "    fig.autofmt_xdate(which='major', rotation=90,ha='center')\n",
    "    return fig\n"
   ]
  },
  {
   "cell_type": "code",
   "execution_count": null,
   "id": "3f021c79",
   "metadata": {},
   "outputs": [],
   "source": [
    "ax = df_ts.plot()\n",
    "format_xdates_stocks(ax);"
   ]
  },
  {
   "cell_type": "markdown",
   "id": "4a202b3d",
   "metadata": {},
   "source": [
    "## Slicing (with a Datetime Index)"
   ]
  },
  {
   "cell_type": "code",
   "execution_count": null,
   "id": "ec678d41",
   "metadata": {
    "scrolled": true
   },
   "outputs": [],
   "source": [
    "## Get all/any dates from 2022\n",
    "df_ts.loc['2022']"
   ]
  },
  {
   "cell_type": "code",
   "execution_count": null,
   "id": "b0122995",
   "metadata": {},
   "outputs": [],
   "source": [
    "# Get all of january, 2022\n",
    "df_ts.loc['January 2022']"
   ]
  },
  {
   "cell_type": "code",
   "execution_count": null,
   "id": "e30b641c",
   "metadata": {},
   "outputs": [],
   "source": [
    "## Get January 01st, 2022 to March 16th 2022\n",
    "df_ts.loc['01/01/22':'03/16/22']"
   ]
  },
  {
   "cell_type": "markdown",
   "id": "ec5a4ffe",
   "metadata": {},
   "source": [
    "> Notice the earliest date is 2020-01-03"
   ]
  },
  {
   "cell_type": "code",
   "execution_count": null,
   "id": "d7b75b36",
   "metadata": {},
   "outputs": [],
   "source": [
    "## Get just 01/03 - AskClose\n",
    "df_ts.loc[\"01/03/2022\", \"AskClose\"]"
   ]
  },
  {
   "cell_type": "code",
   "execution_count": null,
   "id": "de498fc3",
   "metadata": {},
   "outputs": [],
   "source": [
    "## cannot slice out more than 1 non-continuous dates\n",
    "dates_to_keep = ['01/03/2022','01/05/2022']\n",
    "try: \n",
    "    df_ts.loc[dates_to_keep]\n",
    "except Exception as e:\n",
    "    display(e)"
   ]
  },
  {
   "cell_type": "code",
   "execution_count": null,
   "id": "1d78cfbc",
   "metadata": {},
   "outputs": [],
   "source": [
    "## But can use multiple .loc's in a loop or list comprehension\n",
    "sliced_ts = pd.concat([df_ts.loc[i] for i in dates_to_keep])\n",
    "sliced_ts"
   ]
  },
  {
   "cell_type": "code",
   "execution_count": null,
   "id": "6cb811b1",
   "metadata": {},
   "outputs": [],
   "source": [
    "## saving ts to return to later\n",
    "stock_ts = df_ts.loc['2020':'2020','AskClose'].copy()\n",
    "stock_ts.plot()"
   ]
  },
  {
   "cell_type": "markdown",
   "id": "18fa04d7",
   "metadata": {},
   "source": [
    "### Using Time Deltas"
   ]
  },
  {
   "cell_type": "markdown",
   "id": "5e50fd80",
   "metadata": {},
   "source": [
    "> We want to slice out a ts around the date with the minumum price. We want our slice to start 5 days before and end 5 days after."
   ]
  },
  {
   "cell_type": "code",
   "execution_count": null,
   "id": "b9f9b73d",
   "metadata": {},
   "outputs": [],
   "source": [
    "## save timestamp of lowest price\n",
    "idx_min_price = stock_ts.idxmin()\n",
    "idx_min_price"
   ]
  },
  {
   "cell_type": "code",
   "execution_count": null,
   "id": "d324df7c",
   "metadata": {},
   "outputs": [],
   "source": [
    "try:\n",
    "    idx_min_price +'4 days'\n",
    "except Exception as e:\n",
    "    display(e)"
   ]
  },
  {
   "cell_type": "code",
   "execution_count": null,
   "id": "03259a70",
   "metadata": {},
   "outputs": [],
   "source": [
    "## Making a time delta with pd.to_tiemdelta\n",
    "delta_days = pd.to_timedelta('4 days')\n",
    "delta_days"
   ]
  },
  {
   "cell_type": "code",
   "execution_count": null,
   "id": "55ccabff",
   "metadata": {},
   "outputs": [],
   "source": [
    "## Subtracting our delta to get start\n",
    "start = idx_min_price - delta_days\n",
    "start"
   ]
  },
  {
   "cell_type": "code",
   "execution_count": null,
   "id": "6e9baf04",
   "metadata": {},
   "outputs": [],
   "source": [
    "## adding our time delta to get the end\n",
    "end = idx_min_price + delta_days\n",
    "end"
   ]
  },
  {
   "cell_type": "code",
   "execution_count": null,
   "id": "fd69f34e",
   "metadata": {},
   "outputs": [],
   "source": [
    "## Annotating the time period we've selected on our entire ts\n",
    "ax = stock_ts.plot(title=\"Annotating Start and End Dates Calcualted with Timedeltas\");\n",
    "ax.axvline(start,ls='--',color='green', label='Start Date')\n",
    "ax.axvline(end, ls='--',color='red',label='End Date')\n",
    "ax.legend()"
   ]
  },
  {
   "cell_type": "code",
   "execution_count": null,
   "id": "8b6e09b3",
   "metadata": {},
   "outputs": [],
   "source": [
    "## Slicing out the timeperiod and saving as eda_ts\n",
    "eda_ts = stock_ts.loc[start:end]#.resample(\"D\").last()\n",
    "eda_ts"
   ]
  },
  {
   "cell_type": "code",
   "execution_count": null,
   "id": "374fa738",
   "metadata": {},
   "outputs": [],
   "source": [
    "ax = eda_ts.plot()"
   ]
  },
  {
   "cell_type": "code",
   "execution_count": null,
   "id": "b731a3ed",
   "metadata": {
    "scrolled": false
   },
   "outputs": [],
   "source": [
    "eda_ts.plot(style='.--');"
   ]
  },
  {
   "cell_type": "code",
   "execution_count": null,
   "id": "62240240",
   "metadata": {},
   "outputs": [],
   "source": [
    "ax = eda_ts.plot(style='.');\n",
    "ax.axvspan('2020-03-21','2020-03-23',alpha=0.5)"
   ]
  },
  {
   "cell_type": "markdown",
   "id": "fdad8312",
   "metadata": {},
   "source": [
    "> Why does it look the way it does?? Are there null values?"
   ]
  },
  {
   "cell_type": "code",
   "execution_count": null,
   "id": "75924013",
   "metadata": {},
   "outputs": [],
   "source": [
    "## There are no null values in the ts var...\n",
    "eda_ts.isna().sum()"
   ]
  },
  {
   "cell_type": "markdown",
   "id": "e9b8e0c3",
   "metadata": {},
   "source": [
    "> What day of the week were the days missing data?"
   ]
  },
  {
   "cell_type": "code",
   "execution_count": null,
   "id": "dc2594a9",
   "metadata": {},
   "outputs": [],
   "source": [
    "## what day of the week were the days missing data?\n",
    "pd.to_datetime('2020-03-21').day_name()"
   ]
  },
  {
   "cell_type": "code",
   "execution_count": null,
   "id": "60015626",
   "metadata": {},
   "outputs": [],
   "source": [
    "pd.to_datetime('2020-03-22').day_name()"
   ]
  },
  {
   "cell_type": "code",
   "execution_count": null,
   "id": "03a7adde",
   "metadata": {},
   "outputs": [],
   "source": [
    "# what is our datetime index's frequency?\n",
    "eda_ts.index"
   ]
  },
  {
   "cell_type": "code",
   "execution_count": null,
   "id": "7ff94d10",
   "metadata": {},
   "outputs": [],
   "source": [
    "ts_min = eda_ts.resample(\"T\").asfreq()\n",
    "ts_min"
   ]
  },
  {
   "cell_type": "markdown",
   "id": "62178588",
   "metadata": {},
   "source": [
    "## Imputing Null Values (time series)"
   ]
  },
  {
   "cell_type": "code",
   "execution_count": null,
   "id": "143b2103",
   "metadata": {},
   "outputs": [],
   "source": [
    "\n",
    "ax = ts_min.fillna(ts_min.mean()).plot(style='.-')\n",
    "ax.axvspan('2020-03-21','2020-03-23',alpha=0.5)\n",
    "ax.set(title=\"mean\", ylabel=\"Stock Price\");"
   ]
  },
  {
   "cell_type": "code",
   "execution_count": null,
   "id": "d2109dd2",
   "metadata": {},
   "outputs": [],
   "source": [
    "ax = ts_min.fillna(method='bfill').plot(style='.-')\n",
    "ax.axvspan('2020-03-21','2020-03-23',alpha=0.5)\n",
    "ax.set(title='bfill', ylabel=\"Stock Price\");"
   ]
  },
  {
   "cell_type": "code",
   "execution_count": null,
   "id": "9c80d750",
   "metadata": {},
   "outputs": [],
   "source": [
    "ax = ts_min.fillna(method='ffill').plot(style='.-')\n",
    "ax.axvspan('2020-03-21','2020-03-23',alpha=0.5)\n",
    "ax.set(title='ffill', ylabel=\"Stock Price\");"
   ]
  },
  {
   "cell_type": "code",
   "execution_count": null,
   "id": "9c7f9659",
   "metadata": {},
   "outputs": [],
   "source": [
    "ts_temp = ts_min.interpolate()\n",
    "ax = ts_temp.fillna(method='ffill').plot(style='.-')\n",
    "ax.axvspan('2020-03-21','2020-03-23',alpha=0.5)\n",
    "ax.set(title='ffill', ylabel=\"Stock Price\");"
   ]
  },
  {
   "cell_type": "code",
   "execution_count": null,
   "id": "ad2d5820",
   "metadata": {},
   "outputs": [],
   "source": []
  },
  {
   "cell_type": "code",
   "execution_count": null,
   "id": "2400f6a3",
   "metadata": {},
   "outputs": [],
   "source": []
  },
  {
   "cell_type": "markdown",
   "id": "853d9766",
   "metadata": {},
   "source": [
    "# Working with Wide-Form Time Series Data"
   ]
  },
  {
   "cell_type": "code",
   "execution_count": null,
   "id": "98f1d4d5",
   "metadata": {},
   "outputs": [],
   "source": [
    "crypto = pd.read_csv(\"Data/stocks/wide-form-crypto.csv\")\n",
    "crypto"
   ]
  },
  {
   "cell_type": "code",
   "execution_count": null,
   "id": "14f1aab5",
   "metadata": {},
   "outputs": [],
   "source": [
    "## First 3 columns are id coluimns\n",
    "id_vars = crypto.columns[:3]\n",
    "id_vars"
   ]
  },
  {
   "cell_type": "code",
   "execution_count": null,
   "id": "9b2d62db",
   "metadata": {},
   "outputs": [],
   "source": [
    "## Melt the crypto data \n",
    "long_crypto = pd.melt(crypto,id_vars=id_vars)\n",
    "long_crypto"
   ]
  },
  {
   "cell_type": "code",
   "execution_count": null,
   "id": "d5404baf",
   "metadata": {},
   "outputs": [],
   "source": [
    "## Set the var_name  as \"Date\" and the value_name was \"Currency Value\"\n",
    "long_crypto = pd.melt(crypto,id_vars=id_vars, var_name='Date', \n",
    "                      value_name=\"Value\")\n",
    "long_crypto"
   ]
  },
  {
   "cell_type": "code",
   "execution_count": null,
   "id": "ece94bc3",
   "metadata": {},
   "outputs": [],
   "source": [
    "## Now make Date column datetime \n",
    "long_crypto['Date'] = pd.to_datetime( long_crypto[\"Date\"])\n",
    "long_crypto"
   ]
  },
  {
   "cell_type": "code",
   "execution_count": null,
   "id": "6ea2a375",
   "metadata": {},
   "outputs": [],
   "source": [
    "## Set Date as index\n",
    "long_crypto = long_crypto.set_index('Date')\n",
    "long_crypto"
   ]
  },
  {
   "cell_type": "code",
   "execution_count": null,
   "id": "a6facdaf",
   "metadata": {},
   "outputs": [],
   "source": [
    "## \n",
    "long_crypto.index"
   ]
  },
  {
   "cell_type": "code",
   "execution_count": null,
   "id": "61bb9b63",
   "metadata": {},
   "outputs": [],
   "source": [
    "long_crypto.groupby('CryptoCurrency').resample(\"D\").asfreq()"
   ]
  },
  {
   "cell_type": "code",
   "execution_count": null,
   "id": "44ea1874",
   "metadata": {},
   "outputs": [],
   "source": [
    "crypto_ts = long_crypto.groupby('CryptoCurrency').resample(\"D\").asfreq()['Value']\n",
    "crypto_ts"
   ]
  },
  {
   "cell_type": "code",
   "execution_count": null,
   "id": "1cc4c992",
   "metadata": {},
   "outputs": [],
   "source": [
    "crypto_ts.plot();"
   ]
  },
  {
   "cell_type": "markdown",
   "id": "093c0ede",
   "metadata": {},
   "source": [
    "> What are we seeing?"
   ]
  },
  {
   "cell_type": "code",
   "execution_count": null,
   "id": "bd1e9c53",
   "metadata": {},
   "outputs": [],
   "source": [
    "crypto_ts.unstack(0)"
   ]
  },
  {
   "cell_type": "code",
   "execution_count": null,
   "id": "df3ed625",
   "metadata": {
    "scrolled": false
   },
   "outputs": [],
   "source": [
    "crypto_unstacked = crypto_ts.unstack(0)\n",
    "crypto_unstacked.plot();"
   ]
  },
  {
   "cell_type": "markdown",
   "id": "da572491",
   "metadata": {},
   "source": [
    "## Selecting our TS for Resampling Demonstration"
   ]
  },
  {
   "cell_type": "code",
   "execution_count": null,
   "id": "e626567a",
   "metadata": {},
   "outputs": [],
   "source": [
    "ts = crypto_unstacked['Bitcoin'].loc['2021':'2022'].copy()\n",
    "ts"
   ]
  },
  {
   "cell_type": "code",
   "execution_count": null,
   "id": "8c3a294d",
   "metadata": {},
   "outputs": [],
   "source": [
    "ts.plot();"
   ]
  },
  {
   "cell_type": "code",
   "execution_count": null,
   "id": "346a30fa",
   "metadata": {},
   "outputs": [],
   "source": []
  },
  {
   "cell_type": "code",
   "execution_count": null,
   "id": "4e384a4e",
   "metadata": {},
   "outputs": [],
   "source": []
  },
  {
   "cell_type": "code",
   "execution_count": null,
   "id": "03c0714d",
   "metadata": {},
   "outputs": [],
   "source": []
  },
  {
   "cell_type": "markdown",
   "id": "a4020d95",
   "metadata": {},
   "source": [
    "## Resampling"
   ]
  },
  {
   "cell_type": "code",
   "execution_count": null,
   "id": "bfba6a6f",
   "metadata": {},
   "outputs": [],
   "source": [
    "## Check the index to confirm the current freq\n",
    "ts.index"
   ]
  },
  {
   "cell_type": "markdown",
   "id": "cb950e12",
   "metadata": {},
   "source": [
    ">It looks like we have minute-resolution data (frequency = minutes)."
   ]
  },
  {
   "cell_type": "markdown",
   "id": "465fa945",
   "metadata": {},
   "source": [
    "### Resample as Weeks Frequency"
   ]
  },
  {
   "cell_type": "markdown",
   "id": "c2731587",
   "metadata": {},
   "source": [
    "- We need to look up the correct frequency code for minutes: https://pandas.pydata.org/docs/user_guide/timeseries.html#dateoffset-objects \n",
    "    "
   ]
  },
  {
   "cell_type": "code",
   "execution_count": null,
   "id": "b141e78a",
   "metadata": {},
   "outputs": [],
   "source": [
    "## Resample using correct freq code and use .asfreq as agg emthod\n",
    "ts_W = ts.resample(\"W\").last()\n",
    "ts_W"
   ]
  },
  {
   "cell_type": "code",
   "execution_count": null,
   "id": "fd257ea8",
   "metadata": {},
   "outputs": [],
   "source": [
    "ts_W.index"
   ]
  },
  {
   "cell_type": "code",
   "execution_count": null,
   "id": "a6c9ede9",
   "metadata": {},
   "outputs": [],
   "source": [
    "ts.plot()"
   ]
  },
  {
   "cell_type": "markdown",
   "id": "ad04d474",
   "metadata": {},
   "source": [
    "- Let's resample our ts as daily, weekly, and monthly to compare."
   ]
  },
  {
   "cell_type": "code",
   "execution_count": null,
   "id": "5bd6ac19",
   "metadata": {
    "scrolled": false
   },
   "outputs": [],
   "source": [
    "freqs = ['D','W','M','Q','A']\n",
    "\n",
    "\n",
    "for freq in freqs:\n",
    "    ax = ts.plot(label='Original',  style='.-',\n",
    "            title='Comparing Resampled Frequencies');\n",
    "\n",
    "    ts_temp = ts.resample(freq).last()\n",
    "    ts_temp.plot(style='o-', label=freq,ax=ax)\n",
    "    plt.legend()\n",
    "    plt.show()"
   ]
  }
 ],
 "metadata": {
  "kernelspec": {
   "display_name": "Python (dojo-env)",
   "language": "python",
   "name": "dojo-env"
  },
  "language_info": {
   "codemirror_mode": {
    "name": "ipython",
    "version": 3
   },
   "file_extension": ".py",
   "mimetype": "text/x-python",
   "name": "python",
   "nbconvert_exporter": "python",
   "pygments_lexer": "ipython3",
   "version": "3.9.15"
  },
  "toc": {
   "base_numbering": 1,
   "nav_menu": {},
   "number_sections": false,
   "sideBar": true,
   "skip_h1_title": false,
   "title_cell": "Table of Contents",
   "title_sidebar": "Contents",
   "toc_cell": false,
   "toc_position": {
    "height": "calc(100% - 180px)",
    "left": "10px",
    "top": "150px",
    "width": "371.188px"
   },
   "toc_section_display": true,
   "toc_window_display": true
  }
 },
 "nbformat": 4,
 "nbformat_minor": 5
}
